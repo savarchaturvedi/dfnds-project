{
 "cells": [
  {
   "cell_type": "markdown",
   "id": "d81585a0",
   "metadata": {},
   "source": [
    "# ✅ DFNDS - Deploy Hugging Face Fake News Detection Model on SageMaker"
   ]
  },
  {
   "cell_type": "code",
   "execution_count": null,
   "id": "9dc9d298",
   "metadata": {},
   "outputs": [],
   "source": [
    "import sagemaker\n",
    "from sagemaker.huggingface import HuggingFaceModel\n",
    "import boto3\n",
    "import json"
   ]
  },
  {
   "cell_type": "code",
   "execution_count": null,
   "id": "cf334396",
   "metadata": {},
   "outputs": [],
   "source": [
    "role = sagemaker.get_execution_role()\n",
    "print(f'Using SageMaker role: {role}')"
   ]
  },
  {
   "cell_type": "code",
   "execution_count": null,
   "id": "3a5501c2",
   "metadata": {},
   "outputs": [],
   "source": [
    "hub = {\n",
    "    'HF_MODEL_ID': 'distilbert-base-uncased-finetuned-sst-2-english',\n",
    "    'HF_TASK': 'text-classification'\n",
    "\n",
    "}"
   ]
  },
  {
   "cell_type": "code",
   "execution_count": null,
   "id": "9ab1720a",
   "metadata": {},
   "outputs": [],
   "source": [
    "huggingface_model = HuggingFaceModel(\n",
    "    transformers_version='4.26',\n",
    "    pytorch_version='1.13',\n",
    "    py_version='py39',\n",
    "    env=hub,\n",
    "    role=role\n",
    ")"
   ]
  },
  {
   "cell_type": "code",
   "execution_count": null,
   "id": "50c9f17f",
   "metadata": {},
   "outputs": [],
   "source": [
    "predictor = huggingface_model.deploy(\n",
    "    initial_instance_count=1,\n",
    "    instance_type='ml.m5.large'\n",
    ")"
   ]
  },
  {
   "cell_type": "code",
   "execution_count": null,
   "id": "ab1e2630",
   "metadata": {},
   "outputs": [],
   "source": [
    "response = predictor.predict({\n",
    "    'inputs': \"NASA confirms presence of water on Mars\"\n",
    "})\n",
    "print(response)"
   ]
  },
  {
   "cell_type": "code",
   "execution_count": null,
   "id": "0b580017",
   "metadata": {},
   "outputs": [],
   "source": [
    "# predictor.delete_endpoint()  # Uncomment to delete the endpoint when done"
   ]
  }
 ],
 "metadata": {
  "kernelspec": {
   "display_name": "Python 3",
   "name": "python3"
  }
 },
 "nbformat": 4,
 "nbformat_minor": 5
}
